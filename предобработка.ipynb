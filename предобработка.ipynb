{
  "nbformat": 4,
  "nbformat_minor": 0,
  "metadata": {
    "colab": {
      "name": "предобработка.ipynb",
      "provenance": [],
      "authorship_tag": "ABX9TyPPfYg8+CSyH0WLJShZ5p8t"
    },
    "kernelspec": {
      "name": "python3",
      "display_name": "Python 3"
    },
    "language_info": {
      "name": "python"
    }
  },
  "cells": [
    {
      "cell_type": "code",
      "metadata": {
        "id": "n1oZNZa9CVHz"
      },
      "source": [
        "from PIL import Image # Модули работы с изображениями\n",
        "import os\n",
        "import numpy as np\n",
        "import matplotlib.pyplot as plt\n",
        "import copy"
      ],
      "execution_count": null,
      "outputs": []
    },
    {
      "cell_type": "code",
      "metadata": {
        "id": "eubCkH6BCWw3"
      },
      "source": [
        "from google.colab import drive # подключаем гугл драйв диск для загрузки файлов\n",
        "drive.mount('/content/drive')"
      ],
      "execution_count": null,
      "outputs": []
    },
    {
      "cell_type": "code",
      "metadata": {
        "id": "c3Yf6XjICZTS"
      },
      "source": [
        "path = '/content/drive/MyDrive/Базы/text_cleaning/test/'\n",
        "processed_path = '/content/test/'"
      ],
      "execution_count": null,
      "outputs": []
    },
    {
      "cell_type": "code",
      "metadata": {
        "id": "tHftLAxyCayp"
      },
      "source": [
        "# Изменяем размер картинки под input_shape\n",
        "files = os.listdir(path) # Получаем список файлов\n",
        "k=0\n",
        "for f in files:\n",
        "  image = Image.open(path+f) # Загружаем изображение\n",
        "  iw, ih = image.size\n",
        "  w, h = (540, 420)\n",
        "  scale = min(w / iw, h / ih)\n",
        "  nw = int(iw * scale)\n",
        "  nh = int(ih * scale)\n",
        "  image_for_predict = image.resize((nw, nh), Image.BICUBIC)\n",
        "  new_image = Image.new('L',(540,420), (128))\n",
        "  new_image.paste(image_for_predict, ((w - nw) // 2, (h - nh) // 2))\n",
        "  #new_image.convert('LA')\n",
        "  new_image.save(processed_path+f.format(k))\n",
        "  k+=1"
      ],
      "execution_count": null,
      "outputs": []
    },
    {
      "cell_type": "code",
      "metadata": {
        "id": "Uc_su-cyCcb1"
      },
      "source": [
        "import shutil\n",
        "# создаем архив с нашими текстовыми файлами для скачивания\n",
        "shutil.make_archive(\"test\", \"zip\", \"test\")"
      ],
      "execution_count": null,
      "outputs": []
    }
  ]
}